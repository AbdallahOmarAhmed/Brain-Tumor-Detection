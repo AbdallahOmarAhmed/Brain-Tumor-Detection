{
  "nbformat": 4,
  "nbformat_minor": 0,
  "metadata": {
    "colab": {
      "name": "tumor_detection.ipynb",
      "provenance": [],
      "collapsed_sections": [],
      "mount_file_id": "1gBqhi5r0al1-PrtB-3FhKAxtu5O6eaVh",
      "authorship_tag": "ABX9TyMotWi3q1Qgw7zcZPpmteCr",
      "include_colab_link": true
    },
    "kernelspec": {
      "name": "python3",
      "display_name": "Python 3"
    },
    "language_info": {
      "name": "python"
    }
  },
  "cells": [
    {
      "cell_type": "markdown",
      "metadata": {
        "id": "view-in-github",
        "colab_type": "text"
      },
      "source": [
        "<a href=\"https://colab.research.google.com/github/AbdallahOmarAhmed/Brain-Tumor-Detection/blob/main/tumor_detection.ipynb\" target=\"_parent\"><img src=\"https://colab.research.google.com/assets/colab-badge.svg\" alt=\"Open In Colab\"/></a>"
      ]
    },
    {
      "cell_type": "markdown",
      "source": [
        "# **Brain Tumor Detection using UNet**"
      ],
      "metadata": {
        "id": "Kt5Nm3LavoiK"
      }
    },
    {
      "cell_type": "code",
      "execution_count": null,
      "metadata": {
        "id": "A1nHWXQqGo2j"
      },
      "outputs": [],
      "source": [
        "# setup kaggle\n",
        "! pip install -q kaggle\n",
        "from google.colab import files\n",
        "files.upload()\n",
        "! mkdir ~/.kaggle\n",
        "! cp kaggle.json ~/.kaggle/\n",
        "! chmod 600 ~/.kaggle/kaggle.json\n",
        "! kaggle datasets list"
      ]
    },
    {
      "cell_type": "code",
      "source": [
        "# download data set\n",
        "! kaggle datasets download -d tinashri/brain-tumor-segmentation-datasets\n",
        "! unzip -q brain-tumor-segmentation-datasets.zip\n",
        "# ! kaggle datasets download -d muhammadusmansaeed/brain-tumor-segmentation\n",
        "# ! unzip -q brain-tumor-segmentation.zip"
      ],
      "metadata": {
        "id": "hHhAvDxjHVJf"
      },
      "execution_count": null,
      "outputs": []
    },
    {
      "cell_type": "code",
      "source": [
        "# imports\n",
        "import torch\n",
        "import shutil\n",
        "import numpy as np\n",
        "from torch.utils.data import Dataset, DataLoader\n",
        "from torchvision.io import read_image, ImageReadMode\n",
        "from torchvision import transforms\n",
        "from torchvision.datasets import ImageFolder\n",
        "import torch.nn as nn\n",
        "from tqdm import tqdm\n",
        "from PIL import Image\n",
        "from torchvision.transforms import ToTensor\n",
        "import matplotlib.pyplot as plt\n",
        "import os\n",
        "\n"
      ],
      "metadata": {
        "id": "OPYODqJ4XpYv"
      },
      "execution_count": 1,
      "outputs": []
    },
    {
      "cell_type": "code",
      "source": [
        "# configs \n",
        "batch_size = 40\n",
        "img_size = 256\n",
        "learning_rate = 0.0001\n",
        "device = torch.device('cuda' if torch.cuda.is_available() else 'cpu')\n",
        "num_epochs = 100"
      ],
      "metadata": {
        "id": "2PxPY5Ikh69C"
      },
      "execution_count": 2,
      "outputs": []
    },
    {
      "cell_type": "code",
      "source": [
        "# data loader\n",
        "class MyDataSet(Dataset):\n",
        "    def __init__(self, img_size=img_size, dir_path='data/', test=False):\n",
        "        self.resize =  transforms.Resize(img_size)\n",
        "        self.images_path = os.path.join(dir_path, \"images\")\n",
        "        self.masks_path = os.path.join(dir_path, \"masks\")\n",
        "        self.images = os.listdir(self.images_path)\n",
        "        self.masks = os.listdir(self.masks_path)\n",
        "        self.test = test\n",
        "        \n",
        "    def __len__(self):\n",
        "        return 500 if self.test else len(self.images)-500\n",
        "\n",
        "    def __getitem__(self, index): \n",
        "        if not self.test:\n",
        "          index += 500 \n",
        "        self.image = self.resize(read_image(os.path.join(self.images_path, self.images[index])))/255\n",
        "        self.mask = self.resize(read_image(os.path.join(self.masks_path, self.masks[index])))/255\n",
        "        return self.image, self.mask"
      ],
      "metadata": {
        "id": "mdL5x5ynKRXK"
      },
      "execution_count": 3,
      "outputs": []
    },
    {
      "cell_type": "code",
      "source": [
        "# make model\n",
        "class block(nn.Module):\n",
        "    def __init__(self, in_channel, out_channel):\n",
        "        super().__init__()\n",
        "        self.conv1 = nn.Conv2d(in_channel, out_channel, 3, padding='same')\n",
        "        self.conv2 = nn.Conv2d(out_channel, out_channel, 3, padding='same')\n",
        "        self.relu = nn.LeakyReLU(inplace=True)\n",
        "\n",
        "    def forward(self, x):\n",
        "        x = self.relu(self.conv1(x))\n",
        "        x = self.relu(self.conv2(x))\n",
        "        return x\n",
        "\n",
        "class UNet(nn.Module):\n",
        "    def __init__(self):\n",
        "        super().__init__()\n",
        "        self.relu = nn.LeakyReLU(inplace=True)\n",
        "        self.sig = nn.Sigmoid()\n",
        "        self.start_conv = nn.Conv2d(1, 32, 9, padding='same')\n",
        "\n",
        "        self.down_block1 = block(32, 64)\n",
        "        self.down_block2 = block(64, 128)\n",
        "        self.down_block3 = block(128, 256)\n",
        "        self.down_block4 = block(256, 512)\n",
        "\n",
        "        self.up_block1 = block(512, 512*4)\n",
        "        self.up_block2 = block(512, 256*4)\n",
        "        self.up_block3 = block(256, 128*4)\n",
        "        self.up_block4 = block(128, 64*4)\n",
        "\n",
        "        self.pool = nn.MaxPool2d(2, 2)\n",
        "        self.up = nn.PixelShuffle(2)\n",
        "\n",
        "        self.conv1 = nn.Conv2d(64, 64, 3, padding='same')\n",
        "        self.conv2 = nn.Conv2d(64, 64, 3, padding='same')\n",
        "        self.end_conv = nn.Conv2d(64, 1, 1)\n",
        "\n",
        "\n",
        "    def forward(self, x):\n",
        "        x = self.start_conv(x)\n",
        "        res1 = self.down_block1(x)\n",
        "        x = self.pool(res1)\n",
        "        res2 = self.down_block2(x)\n",
        "        x = self.pool(res2)\n",
        "        res3 = self.down_block3(x)\n",
        "        x = self.pool(res3)\n",
        "        res4 = self.down_block4(x)\n",
        "        x = self.pool(res4)\n",
        "\n",
        "        x = self.up(self.up_block1(x)) + res4\n",
        "        x = self.up(self.up_block2(x)) + res3\n",
        "        x = self.up(self.up_block3(x)) + res2\n",
        "        x = self.up(self.up_block4(x)) + res1\n",
        "\n",
        "        x = self.relu(self.conv1(x))\n",
        "        x = self.relu(self.conv2(x))\n",
        "        x = self.sig(self.end_conv(x))\n",
        "\n",
        "        return x\n",
        "\n",
        "    def count_parameters(self):\n",
        "        return sum(p.numel() for p in self.parameters() if p.requires_grad)"
      ],
      "metadata": {
        "id": "33hypwnfifQF"
      },
      "execution_count": 4,
      "outputs": []
    },
    {
      "cell_type": "code",
      "source": [
        "# initialize components \n",
        "data = MyDataSet()\n",
        "test = MyDataSet(test=True)\n",
        "print(len(data), 'image')\n",
        "dataloader = DataLoader(data, batch_size=batch_size, shuffle=True, num_workers=2)\n",
        "testloader = DataLoader(test, batch_size=10, shuffle=True, num_workers=2)\n",
        "model = UNet()\n",
        "model.to(device)\n",
        "model.train()\n",
        "model.load_state_dict(torch.load(\"/content/drive/MyDrive/UNet/modelUNet60_epoch.pth\"))\n",
        "print(model.count_parameters(),'parameters')\n",
        "optimizer = torch.optim.Adam(model.parameters(), lr=learning_rate)\n",
        "myloss = nn.BCELoss()"
      ],
      "metadata": {
        "id": "ehPmN77daPf4"
      },
      "execution_count": null,
      "outputs": []
    },
    {
      "cell_type": "code",
      "source": [
        "# training\n",
        "min_loss = 1\n",
        "train_losses = []\n",
        "test_losses = []\n",
        "for epoch in range(num_epochs):\n",
        "    model.train()\n",
        "    epoch_loss = 0\n",
        "    test_loss = 0\n",
        "    c = 0\n",
        "    for x,y in tqdm(dataloader):\n",
        "        c += 1\n",
        "        images = x.to(device)\n",
        "        labels = y.to(device)\n",
        "        optimizer.zero_grad()\n",
        "        output = model(images)\n",
        "        loss = myloss(output, labels)\n",
        "        loss.backward()\n",
        "        optimizer.step()\n",
        "        epoch_loss += loss\n",
        "    epoch_loss /= c\n",
        "    model.eval()\n",
        "    c = 0\n",
        "    with torch.no_grad():\n",
        "        for x0,y0 in testloader:\n",
        "            c += 1\n",
        "            images = x0.to(device)\n",
        "            labels = y0.to(device)\n",
        "            output = model(images)\n",
        "            loss = myloss(output, labels)\n",
        "            test_loss += loss\n",
        "        test_loss /= c\n",
        "        if test_loss < min_loss:\n",
        "          min_loss = test_loss\n",
        "          torch.save(model.state_dict(), '/content/drive/MyDrive/UNet/model.pth')\n",
        "          # shutil.copy(\"/content/modelUNet100_epoch.pth\", \"/content/drive/MyDrive/UNet/\")\n",
        "        train_losses.append(epoch_loss.item())\n",
        "        test_losses.append(test_loss.item())\n",
        "        print(epoch + 1, '/', num_epochs, 'loss = ', epoch_loss.item(), 'test_loss = ', test_loss.item())\n"
      ],
      "metadata": {
        "id": "jCCvdaifrZ_p"
      },
      "execution_count": null,
      "outputs": []
    },
    {
      "cell_type": "code",
      "source": [
        "plt.plot(train_losses, label = \"train\")\n",
        "plt.plot(test_losses, label = \"test\")\n",
        "plt.show()"
      ],
      "metadata": {
        "id": "nGq-9F4ie4U0"
      },
      "execution_count": null,
      "outputs": []
    },
    {
      "cell_type": "code",
      "source": [
        "# initialize for test\n",
        "data = MyDataSet(test=True)\n",
        "dataloader = DataLoader(data, batch_size=1, shuffle=True, num_workers=2)\n",
        "model = UNet()\n",
        "model.load_state_dict(torch.load(\"/content/drive/MyDrive/UNet/modelUNet60_epoch.pth\", map_location=torch.device('cpu')))\n",
        "model.eval()\n",
        "myloss = nn.BCELoss()\n",
        "to_pil = transforms.ToPILImage()"
      ],
      "metadata": {
        "id": "GXf0oUBknA3v"
      },
      "execution_count": 6,
      "outputs": []
    },
    {
      "cell_type": "code",
      "source": [
        "# test\n",
        "for x,y in dataloader:\n",
        "  images = x.squeeze(0)\n",
        "  labels = y.squeeze(0)\n",
        "  out = model(images) >= 0.5\n",
        "  # print(myloss(out, labels))\n",
        "  display(to_pil(out*images))\n",
        "  display(to_pil(images+labels*10))\n",
        "  display(to_pil(labels*images))\n",
        "  break"
      ],
      "metadata": {
        "colab": {
          "base_uri": "https://localhost:8080/",
          "height": 785
        },
        "id": "6BudHS_JqeH5",
        "outputId": "1c5909dd-1424-4c45-8d25-4ec1ffa8bad3"
      },
      "execution_count": 14,
      "outputs": [
        {
          "output_type": "display_data",
          "data": {
            "text/plain": [
              "<PIL.Image.Image image mode=L size=256x256 at 0x7FB4D9937790>"
            ],
            "image/png": "[encoded data removed]"
          },
          "metadata": {}
        },
        {
          "output_type": "display_data",
          "data": {
            "text/plain": [
              "<PIL.Image.Image image mode=L size=256x256 at 0x7FB4D9848150>"
            ],
            "image/png": "[encoded data removed]"
          },
          "metadata": {}
        },
        {
          "output_type": "display_data",
          "data": {
            "text/plain": [
              "<PIL.Image.Image image mode=L size=256x256 at 0x7FB4D98A1F10>"
            ],
            "image/png": "[encoded data removed]"
          },
          "metadata": {}
        }
      ]
    }
  ]
}